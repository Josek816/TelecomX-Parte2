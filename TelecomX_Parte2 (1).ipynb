{
  "nbformat": 4,
  "nbformat_minor": 0,
  "metadata": {
    "colab": {
      "provenance": []
    },
    "kernelspec": {
      "name": "python3",
      "display_name": "Python 3"
    },
    "language_info": {
      "name": "python"
    }
  },
  "cells": [
    {
      "cell_type": "markdown",
      "source": [
        "# **TelecomX-Parte2**"
      ],
      "metadata": {
        "id": "YyQwE4c_Eo45"
      }
    },
    {
      "cell_type": "markdown",
      "source": [
        "# **🛠️ Preparación de los Datos**"
      ],
      "metadata": {
        "id": "Fjkj9DceD1k8"
      }
    },
    {
      "cell_type": "code",
      "source": [
        "import pandas as pd\n",
        "import numpy as np"
      ],
      "metadata": {
        "id": "IzlvzplQtdVM"
      },
      "execution_count": null,
      "outputs": []
    },
    {
      "cell_type": "code",
      "source": [
        "df = pd.read_csv(\"/content/datos_tratados.csv\")"
      ],
      "metadata": {
        "id": "yKb2h894Fxzb"
      },
      "execution_count": null,
      "outputs": []
    },
    {
      "cell_type": "code",
      "source": [
        "if \"customerID\" in df.columns:\n",
        "    df.drop(columns=[\"customerID\"], inplace=True)\n"
      ],
      "metadata": {
        "id": "B1orjjvTMuV7"
      },
      "execution_count": null,
      "outputs": []
    },
    {
      "cell_type": "code",
      "source": [
        "df.drop(columns=[\"customerID\"], inplace=True, errors=\"ignore\")"
      ],
      "metadata": {
        "id": "2N0ecLrJO8qV"
      },
      "execution_count": null,
      "outputs": []
    },
    {
      "cell_type": "code",
      "source": [
        "if \"Genero\" in df.columns:\n",
        "    df[\"Genero\"] = df[\"Genero\"].astype(str).str.strip().str.lower()\n",
        "    genero_map = {\"masculino\": 1, \"femenino\": 0, \"male\": 1, \"female\": 0}\n",
        "    df[\"Genero\"] = df[\"Genero\"].map(genero_map).fillna(0).astype(int)"
      ],
      "metadata": {
        "id": "tecz3LWkO8lU"
      },
      "execution_count": null,
      "outputs": []
    },
    {
      "cell_type": "code",
      "source": [
        "bool_cols = df.select_dtypes(include=[\"bool\"]).columns\n",
        "df[bool_cols] = df[bool_cols].astype(int)"
      ],
      "metadata": {
        "id": "sptUQA2BO8i2"
      },
      "execution_count": null,
      "outputs": []
    },
    {
      "cell_type": "markdown",
      "source": [
        "# **Encoding**"
      ],
      "metadata": {
        "id": "TM243szqUFr6"
      }
    },
    {
      "cell_type": "code",
      "source": [
        "categoricas = df.select_dtypes(include=[\"object\"]).columns\n",
        "df = pd.get_dummies(df, columns=categoricas, drop_first=True, dtype=int)"
      ],
      "metadata": {
        "id": "iH07xfYXO8gL"
      },
      "execution_count": null,
      "outputs": []
    },
    {
      "cell_type": "code",
      "source": [
        "df = df.apply(pd.to_numeric)"
      ],
      "metadata": {
        "id": "LHZCmgBhO8da"
      },
      "execution_count": null,
      "outputs": []
    },
    {
      "cell_type": "code",
      "source": [
        "assert all(np.issubdtype(t, np.number) for t in df.dtypes), \"⚠️ Aún quedan columnas no numéricas\"\n",
        "print(\"✅ Dataset 100% numérico. Dimensiones:\", df.shape)"
      ],
      "metadata": {
        "id": "ZAhVtFncO8aM"
      },
      "execution_count": null,
      "outputs": []
    },
    {
      "cell_type": "code",
      "source": [
        "df.head()"
      ],
      "metadata": {
        "id": "x9hoPZ2PO8XL"
      },
      "execution_count": null,
      "outputs": []
    },
    {
      "cell_type": "code",
      "source": [
        "df.to_csv(\"/content/datos_listos_modelo.csv\", index=False)"
      ],
      "metadata": {
        "id": "RzxocT7ZQmR1"
      },
      "execution_count": null,
      "outputs": []
    },
    {
      "cell_type": "markdown",
      "source": [
        "# **Verificación de la Proporción de Cancelación (Churn)**"
      ],
      "metadata": {
        "id": "mayxlzXIU4ZR"
      }
    },
    {
      "cell_type": "markdown",
      "source": [],
      "metadata": {
        "id": "qWD17l5xWe3a"
      }
    },
    {
      "cell_type": "code",
      "source": [
        "df = pd.read_csv(\"/content/datos_listos_modelo.csv\")"
      ],
      "metadata": {
        "id": "0QNWTaFVU64L"
      },
      "execution_count": null,
      "outputs": []
    },
    {
      "cell_type": "code",
      "source": [
        "conteo = df[\"Churn\"].value_counts()\n",
        "proporcion = df[\"Churn\"].value_counts(normalize=True) * 100"
      ],
      "metadata": {
        "id": "hh_y07OYVCCS"
      },
      "execution_count": null,
      "outputs": []
    },
    {
      "cell_type": "code",
      "source": [
        "print(\"📊 Distribución de clases:\")\n",
        "print(conteo)\n",
        "print(\"\\n📈 Proporción de clases (%):\")\n",
        "print(proporcion.round(2))"
      ],
      "metadata": {
        "id": "_gmcooe2VFfO"
      },
      "execution_count": null,
      "outputs": []
    },
    {
      "cell_type": "code",
      "source": [
        "umbral = 0.40  # Si alguna clase es < 40% → posible desbalance\n",
        "if proporcion.min() < (umbral * 100):\n",
        "    print(\"\\n⚠️ Existe un posible desbalance de clases. Podría ser necesario balancear los datos.\")\n",
        "else:\n",
        "    print(\"\\n✅ Las clases están relativamente balanceadas.\")"
      ],
      "metadata": {
        "id": "iPbix1mrVKva"
      },
      "execution_count": null,
      "outputs": []
    },
    {
      "cell_type": "code",
      "source": [
        "from google.colab import files\n",
        "files.download(\"/content/datos_listos_modelo.csv\")"
      ],
      "metadata": {
        "id": "MBNY1D3laVum"
      },
      "execution_count": null,
      "outputs": []
    },
    {
      "cell_type": "markdown",
      "source": [
        "# **Balanceo de Clases (opcional)**"
      ],
      "metadata": {
        "id": "G1a8J_n9b6OP"
      }
    },
    {
      "cell_type": "code",
      "source": [
        "from imblearn.over_sampling import SMOTE\n",
        "from collections import Counter"
      ],
      "metadata": {
        "id": "D-vWecYsbWVi"
      },
      "execution_count": null,
      "outputs": []
    },
    {
      "cell_type": "code",
      "source": [
        "X = df.drop(\"Churn\", axis=1)\n",
        "y = df[\"Churn\"]"
      ],
      "metadata": {
        "id": "wUn0lE2zbWR8"
      },
      "execution_count": null,
      "outputs": []
    },
    {
      "cell_type": "code",
      "source": [
        "print(\"📊 Distribución original:\", Counter(y))"
      ],
      "metadata": {
        "id": "nBRZu3cjbWPE"
      },
      "execution_count": null,
      "outputs": []
    },
    {
      "cell_type": "code",
      "source": [
        "smote = SMOTE(random_state=42)\n",
        "X_res, y_res = smote.fit_resample(X, y)"
      ],
      "metadata": {
        "id": "NveEVN_vbWMC"
      },
      "execution_count": null,
      "outputs": []
    },
    {
      "cell_type": "code",
      "source": [
        "print(\"✅ Distribución balanceada:\", Counter(y_res))"
      ],
      "metadata": {
        "id": "WFOP3SncbWAW"
      },
      "execution_count": null,
      "outputs": []
    },
    {
      "cell_type": "markdown",
      "source": [
        "# **Normalización o Estandarización (si es necesario)**"
      ],
      "metadata": {
        "id": "CzgDNug1dh1B"
      }
    },
    {
      "cell_type": "code",
      "source": [
        "from sklearn.preprocessing import StandardScaler\n",
        "from sklearn.model_selection import train_test_split"
      ],
      "metadata": {
        "id": "TLSqQmhGcWzO"
      },
      "execution_count": null,
      "outputs": []
    },
    {
      "cell_type": "code",
      "source": [
        "X = df.drop(\"Churn\", axis=1)\n",
        "y = df[\"Churn\"]"
      ],
      "metadata": {
        "id": "rNlpj7kgdkPr"
      },
      "execution_count": null,
      "outputs": []
    },
    {
      "cell_type": "code",
      "source": [
        "X_train, X_test, y_train, y_test = train_test_split(\n",
        "    X, y, test_size=0.2, random_state=42, stratify=y\n",
        ")"
      ],
      "metadata": {
        "id": "BO8ROst3dkMa"
      },
      "execution_count": null,
      "outputs": []
    },
    {
      "cell_type": "code",
      "source": [
        "scaler = StandardScaler()\n",
        "X_train_scaled = scaler.fit_transform(X_train)\n",
        "X_test_scaled = scaler.transform(X_test)"
      ],
      "metadata": {
        "id": "-pGFOES0dkIp"
      },
      "execution_count": null,
      "outputs": []
    },
    {
      "cell_type": "code",
      "source": [
        "pd.DataFrame(X_train_scaled, columns=X.columns).to_csv(\"/content/X_train_scaled.csv\", index=False)\n",
        "pd.DataFrame(X_test_scaled, columns=X.columns).to_csv(\"/content/X_test_scaled.csv\", index=False)\n",
        "y_train.to_csv(\"/content/y_train.csv\", index=False)\n",
        "y_test.to_csv(\"/content/y_test.csv\", index=False)\n",
        "\n",
        "print(\"✅ Estandarización completada con datos sin balancear.\")\n",
        "print(\"📊 X_train shape:\", X_train.shape)\n",
        "print(\"📊 X_test shape:\", X_test.shape)"
      ],
      "metadata": {
        "id": "mL9_oLxAdkF0"
      },
      "execution_count": null,
      "outputs": []
    },
    {
      "cell_type": "markdown",
      "source": [
        "# **🎯 Correlación y Selección de Variables**"
      ],
      "metadata": {
        "id": "noCpOTQkgN3m"
      }
    },
    {
      "cell_type": "code",
      "source": [
        "import matplotlib.pyplot as plt\n",
        "import seaborn as sns"
      ],
      "metadata": {
        "id": "DagWhyoMgIQK"
      },
      "execution_count": null,
      "outputs": []
    },
    {
      "cell_type": "code",
      "source": [
        "corr = df.corr()"
      ],
      "metadata": {
        "id": "r0ML_MSpgIL1"
      },
      "execution_count": null,
      "outputs": []
    },
    {
      "cell_type": "code",
      "source": [
        "plt.figure(figsize=(14,10))\n",
        "sns.heatmap(corr, cmap=\"coolwarm\", annot=False)\n",
        "plt.title(\"📊 Matriz de Correlación\")\n",
        "plt.show()"
      ],
      "metadata": {
        "id": "LAZ1VJ_CgIGP"
      },
      "execution_count": null,
      "outputs": []
    },
    {
      "cell_type": "code",
      "source": [
        "corr_churn = corr[\"Churn\"].sort_values(ascending=False)"
      ],
      "metadata": {
        "id": "6D0mhvfEgICM"
      },
      "execution_count": null,
      "outputs": []
    },
    {
      "cell_type": "code",
      "source": [
        "print(\"🔥 Variables más correlacionadas con la cancelación (Churn):\")\n",
        "print(corr_churn.head(10))\n",
        "print(\"\\n❄️ Variables menos correlacionadas con la cancelación (Churn):\")\n",
        "print(corr_churn.tail(10))"
      ],
      "metadata": {
        "id": "WpbX0d97gH9n"
      },
      "execution_count": null,
      "outputs": []
    },
    {
      "cell_type": "markdown",
      "source": [
        "# **Análisis Dirigido**"
      ],
      "metadata": {
        "id": "nu5UAS3nkxDo"
      }
    },
    {
      "cell_type": "code",
      "source": [
        "sns.set(style=\"whitegrid\")\n",
        "plt.figure(figsize=(14,6))"
      ],
      "metadata": {
        "id": "7HFVFwIJkzcg"
      },
      "execution_count": null,
      "outputs": []
    },
    {
      "cell_type": "code",
      "source": [
        "plt.subplot(1, 2, 1)\n",
        "sns.boxplot(x=\"Churn\", y=\"MesesCliente\", data=df, palette=\"Set2\")\n",
        "plt.title(\"📊 Tiempo de contrato vs Cancelación\")\n",
        "plt.xlabel(\"Cancelación (1 = Sí, 0 = No)\")\n",
        "plt.ylabel(\"Meses de Cliente\")"
      ],
      "metadata": {
        "id": "nAs_sqFmlGJh"
      },
      "execution_count": null,
      "outputs": []
    },
    {
      "cell_type": "code",
      "source": [
        "plt.subplot(1, 2, 2)\n",
        "sns.boxplot(x=\"Churn\", y=\"FacturaTotal\", data=df, palette=\"Set3\")\n",
        "plt.title(\"💰 Gasto total vs Cancelación\")\n",
        "plt.xlabel(\"Cancelación (1 = Sí, 0 = No)\")\n",
        "plt.ylabel(\"Factura Total\")\n",
        "plt.tight_layout()\n",
        "plt.show()"
      ],
      "metadata": {
        "id": "mEIqCgqWlGHO"
      },
      "execution_count": null,
      "outputs": []
    },
    {
      "cell_type": "code",
      "source": [
        "plt.figure(figsize=(14,6))\n",
        "\n",
        "plt.subplot(1, 2, 1)\n",
        "sns.scatterplot(x=\"MesesCliente\", y=\"FacturaTotal\", hue=\"Churn\", data=df, palette=\"coolwarm\", alpha=0.6)\n",
        "plt.title(\"⏳ Meses de Cliente vs Factura Total por Cancelación\")\n",
        "\n",
        "plt.subplot(1, 2, 2)\n",
        "sns.scatterplot(x=\"MesesCliente\", y=\"FacturaTotal\", hue=\"Churn\", data=df, palette=\"coolwarm\", alpha=0.6)\n",
        "plt.ylim(0, 5000)  # Zoom para ver mejor datos en rango bajo\n",
        "plt.title(\"🔍 Zoom: Meses de Cliente vs Factura Total\")\n",
        "\n",
        "plt.tight_layout()\n",
        "plt.show()"
      ],
      "metadata": {
        "id": "YzPzjM8blGEU"
      },
      "execution_count": null,
      "outputs": []
    },
    {
      "cell_type": "code",
      "source": [
        "from google.colab import files\n",
        "files.download(\"/content/datos_listos_modelo.csv\")"
      ],
      "metadata": {
        "id": "1_--K5PFlGAm"
      },
      "execution_count": null,
      "outputs": []
    },
    {
      "cell_type": "markdown",
      "source": [
        "# **🤖 Modelado Predictivo**"
      ],
      "metadata": {
        "id": "FeaJp-ueo6yz"
      }
    },
    {
      "cell_type": "code",
      "source": [
        "from sklearn.model_selection import train_test_split\n"
      ],
      "metadata": {
        "id": "cUpPH6EFlF9F"
      },
      "execution_count": null,
      "outputs": []
    },
    {
      "cell_type": "code",
      "source": [
        "X = df.drop(\"Churn\", axis=1)\n",
        "y = df[\"Churn\"]"
      ],
      "metadata": {
        "id": "obMvsTpsp1sV"
      },
      "execution_count": null,
      "outputs": []
    },
    {
      "cell_type": "code",
      "source": [
        "# Dividir en entrenamiento (70%) y prueba (30%)\n",
        "X_train, X_test, y_train, y_test = train_test_split(\n",
        "    X, y, test_size=0.3, random_state=42, stratify=y)"
      ],
      "metadata": {
        "id": "gcUb7Hafp1os"
      },
      "execution_count": null,
      "outputs": []
    },
    {
      "cell_type": "code",
      "source": [
        "#  Verificar tamaños de los conjuntos\n",
        "print(\"📊 Dimensiones del dataset completo:\", X.shape)\n",
        "print(\"📚 Entrenamiento:\", X_train.shape, \" Target:\", y_train.shape)\n",
        "print(\"🧪 Prueba:\", X_test.shape, \" Target:\", y_test.shape)"
      ],
      "metadata": {
        "id": "itft6ARUp1lq"
      },
      "execution_count": null,
      "outputs": []
    },
    {
      "cell_type": "markdown",
      "source": [
        "# **Creación de Modelos**"
      ],
      "metadata": {
        "id": "ZFTrI86frGMt"
      }
    },
    {
      "cell_type": "code",
      "source": [
        "from sklearn.model_selection import train_test_split\n",
        "from sklearn.preprocessing import StandardScaler\n",
        "from sklearn.linear_model import LogisticRegression\n",
        "from sklearn.ensemble import RandomForestClassifier\n",
        "from sklearn.metrics import classification_report, confusion_matrix, accuracy_score\n",
        "import seaborn as sns\n",
        "import matplotlib.pyplot as plt"
      ],
      "metadata": {
        "id": "MIxF4HZBp1h7"
      },
      "execution_count": null,
      "outputs": []
    },
    {
      "cell_type": "code",
      "source": [
        "X = df.drop(\"Churn\", axis=1)\n",
        "y = df[\"Churn\"]"
      ],
      "metadata": {
        "id": "0HfHKctRrPTa"
      },
      "execution_count": null,
      "outputs": []
    },
    {
      "cell_type": "code",
      "source": [
        "X_train, X_test, y_train, y_test = train_test_split(\n",
        "    X, y, test_size=0.3, random_state=42, stratify=y\n",
        ")"
      ],
      "metadata": {
        "id": "tkeiknttrPQY"
      },
      "execution_count": null,
      "outputs": []
    },
    {
      "cell_type": "code",
      "source": [
        "scaler = StandardScaler()\n",
        "X_train_scaled = scaler.fit_transform(X_train)\n",
        "X_test_scaled = scaler.transform(X_test)"
      ],
      "metadata": {
        "id": "F-pyPiJprPNw"
      },
      "execution_count": null,
      "outputs": []
    },
    {
      "cell_type": "code",
      "source": [
        "log_reg = LogisticRegression(max_iter=1000, random_state=42)\n",
        "log_reg.fit(X_train_scaled, y_train)\n",
        "y_pred_lr = log_reg.predict(X_test_scaled)"
      ],
      "metadata": {
        "id": "Phw0nmA8rPK5"
      },
      "execution_count": null,
      "outputs": []
    },
    {
      "cell_type": "code",
      "source": [
        "rf = RandomForestClassifier(random_state=42)\n",
        "rf.fit(X_train, y_train)\n",
        "y_pred_rf = rf.predict(X_test)\n"
      ],
      "metadata": {
        "id": "zL3H3ypBrPHt"
      },
      "execution_count": null,
      "outputs": []
    },
    {
      "cell_type": "code",
      "source": [
        "print(\"📊 Regresión Logística (con normalización)\")\n",
        "print(\"Accuracy:\", accuracy_score(y_test, y_pred_lr))\n",
        "print(classification_report(y_test, y_pred_lr))\n",
        "\n",
        "print(\"\\n🌳 Random Forest (sin normalización)\")\n",
        "print(\"Accuracy:\", accuracy_score(y_test, y_pred_rf))\n",
        "print(classification_report(y_test, y_pred_rf))"
      ],
      "metadata": {
        "id": "s9rWc4anrh4x"
      },
      "execution_count": null,
      "outputs": []
    },
    {
      "cell_type": "code",
      "source": [
        "#  Matrices de confusión\n",
        "fig, axes = plt.subplots(1, 2, figsize=(12,5))\n",
        "\n",
        "sns.heatmap(confusion_matrix(y_test, y_pred_lr), annot=True, fmt=\"d\", cmap=\"Blues\", ax=axes[0])\n",
        "axes[0].set_title(\"Matriz de Confusión - Regresión Logística\")\n",
        "\n",
        "sns.heatmap(confusion_matrix(y_test, y_pred_rf), annot=True, fmt=\"d\", cmap=\"Greens\", ax=axes[1])\n",
        "axes[1].set_title(\"Matriz de Confusión - Random Forest\")\n",
        "\n",
        "plt.tight_layout()\n",
        "plt.show()"
      ],
      "metadata": {
        "id": "sd3OXhydrpq6"
      },
      "execution_count": null,
      "outputs": []
    },
    {
      "cell_type": "markdown",
      "source": [
        "# **Evaluación de los Modelos**"
      ],
      "metadata": {
        "id": "Y6AXn2qbtYy3"
      }
    },
    {
      "cell_type": "code",
      "source": [
        "from sklearn.metrics import accuracy_score, precision_score, recall_score, f1_score, confusion_matrix\n",
        "import seaborn as sns\n",
        "import matplotlib.pyplot as plt\n",
        "import pandas as pd\n",
        "\n"
      ],
      "metadata": {
        "id": "rlmk5DL_ta7X"
      },
      "execution_count": null,
      "outputs": []
    },
    {
      "cell_type": "code",
      "source": [
        "# ✅ Función para evaluar un modelo\n",
        "def evaluar_modelo(nombre, y_true, y_pred):\n",
        "    acc = accuracy_score(y_true, y_pred)\n",
        "    prec = precision_score(y_true, y_pred)\n",
        "    rec = recall_score(y_true, y_pred)\n",
        "    f1 = f1_score(y_true, y_pred)\n",
        "\n",
        "    print(\"\\n==============================\")\n",
        "    print(f\"🔎 Evaluación: {nombre}\")\n",
        "    print(f\"Accuracy :  {acc:.4f}\")\n",
        "    print(f\"Precisión: {prec:.4f}\")\n",
        "    print(f\"Recall   : {rec:.4f}\")\n",
        "    print(f\"F1-Score : {f1:.4f}\")\n",
        "    print(\"==============================\")\n",
        "\n",
        "    # 📊 Matriz de confusión\n",
        "    cm = confusion_matrix(y_true, y_pred)\n",
        "    plt.figure(figsize=(5,4))\n",
        "    sns.heatmap(cm, annot=True, fmt=\"d\", cmap=\"Blues\")\n",
        "    plt.title(f\"Matriz de Confusión - {nombre}\")\n",
        "    plt.xlabel(\"Predicciones\")\n",
        "    plt.ylabel(\"Valores Reales\")\n",
        "    plt.show()\n",
        "\n",
        "    return {\n",
        "        \"Modelo\": nombre,\n",
        "        \"Accuracy\": acc,\n",
        "        \"Precision\": prec,\n",
        "        \"Recall\": rec,\n",
        "        \"F1-Score\": f1\n",
        "    }"
      ],
      "metadata": {
        "id": "0SqI-8ntvqO4"
      },
      "execution_count": null,
      "outputs": []
    },
    {
      "cell_type": "code",
      "source": [
        "# 📌 Evaluar Regresión Logística\n",
        "res_lr = evaluar_modelo(\"Regresión Logística\", y_test, y_pred_lr)"
      ],
      "metadata": {
        "id": "7bSsKdQ-yVJR"
      },
      "execution_count": null,
      "outputs": []
    },
    {
      "cell_type": "code",
      "source": [
        "# 📌 Evaluar Random Forest\n",
        "res_rf = evaluar_modelo(\"Random Forest\", y_test, y_pred_rf)"
      ],
      "metadata": {
        "id": "ajb8PWLkvo9Q"
      },
      "execution_count": null,
      "outputs": []
    },
    {
      "cell_type": "code",
      "source": [
        "# 📊 Comparación en tabla\n",
        "resultados = pd.DataFrame([res_lr, res_rf])\n",
        "print(\"\\n📊 Comparación de Modelos:\")\n",
        "print(resultados.sort_values(by=\"F1-Score\", ascending=False))"
      ],
      "metadata": {
        "id": "A4VjNhL6yf9D"
      },
      "execution_count": null,
      "outputs": []
    },
    {
      "cell_type": "markdown",
      "source": [
        "# **📋 Interpretación y Conclusiones**"
      ],
      "metadata": {
        "id": "bD16PksnzRVX"
      }
    },
    {
      "cell_type": "markdown",
      "source": [
        "#**Análisis de la Importancia de las Variables**"
      ],
      "metadata": {
        "id": "XRdUrWdlzgSx"
      }
    },
    {
      "cell_type": "code",
      "source": [
        "#📌 1. Importancia en Regresión Logística\n",
        "#Los coeficientes muestran si una variable aumenta (+) o disminuye (–) la probabilidad de cancelación."
      ],
      "metadata": {
        "id": "Ick7cRNTzVRi"
      },
      "execution_count": null,
      "outputs": []
    },
    {
      "cell_type": "code",
      "source": [
        "# ✅ Importancia de variables en Regresión Logística\n",
        "import numpy as np\n",
        "\n",
        "coeficientes = pd.DataFrame({\n",
        "    \"Variable\": X_train.columns,\n",
        "    \"Coeficiente\": log_reg.coef_[0]\n",
        "})\n",
        "coeficientes[\"Impacto\"] = np.where(coeficientes[\"Coeficiente\"] > 0, \"↑ Mayor riesgo de cancelación\", \"↓ Menor riesgo de cancelación\")\n",
        "coeficientes = coeficientes.sort_values(by=\"Coeficiente\", ascending=False)\n",
        "\n",
        "print(\"📊 Coeficientes de Regresión Logística\")\n",
        "display(coeficientes.head(10))   # Top 10 más influyentes"
      ],
      "metadata": {
        "id": "ZHV2phgozVqg"
      },
      "execution_count": null,
      "outputs": []
    },
    {
      "cell_type": "code",
      "source": [
        "# 📌 2. Importancia en Random Forest\n",
        "# Random Forest usa la reducción de impureza para calcular la importancia."
      ],
      "metadata": {
        "id": "6YcnzloQzVnK"
      },
      "execution_count": null,
      "outputs": []
    },
    {
      "cell_type": "code",
      "source": [
        "# ✅ Importancia de variables en Random Forest\n",
        "importances = pd.DataFrame({\n",
        "    \"Variable\": X_train.columns,\n",
        "    \"Importancia\": rf.feature_importances_\n",
        "})\n",
        "importances = importances.sort_values(by=\"Importancia\", ascending=False)\n",
        "\n",
        "print(\"📊 Importancia de Variables en Random Forest\")\n",
        "display(importances.head(10))\n",
        "\n",
        "# 🔎 Visualización\n",
        "plt.figure(figsize=(8,5))\n",
        "sns.barplot(x=\"Importancia\", y=\"Variable\", data=importances.head(10), palette=\"viridis\")\n",
        "plt.title(\"Top 10 Variables más importantes - Random Forest\")\n",
        "plt.show()"
      ],
      "metadata": {
        "id": "bEAEezeBzVjY"
      },
      "execution_count": null,
      "outputs": []
    },
    {
      "cell_type": "code",
      "source": [
        "#📌 3. Para otros modelos (opcional)\n",
        "#KNN: no tiene coeficientes directos → la relevancia se analiza viendo cómo cambian las predicciones al eliminar/alterar variables (lo haríamos con permutation importance).\n",
        "#SVM lineal: se interpreta igual que la regresión logística (coef_).\n",
        "#XGBoost o Gradient Boosting: tienen feature_importances_ al igual que Random Forest.\n",
        "\n",
        "#Ejemplo con permutation importance (sirve para KNN, SVM, redes neuronales, etc.):"
      ],
      "metadata": {
        "id": "EH6WFE3czVgL"
      },
      "execution_count": null,
      "outputs": []
    },
    {
      "cell_type": "code",
      "source": [
        "from sklearn.inspection import permutation_importance\n",
        "\n",
        "# ✅ Ejemplo con Random Forest (también se puede con KNN o SVM)\n",
        "perm_importance = permutation_importance(rf, X_test, y_test, n_repeats=10, random_state=42)\n",
        "\n",
        "perm_df = pd.DataFrame({\n",
        "    \"Variable\": X_test.columns,\n",
        "    \"Importancia\": perm_importance.importances_mean\n",
        "}).sort_values(by=\"Importancia\", ascending=False)\n",
        "\n",
        "print(\"📊 Importancia de Variables (Permutation Importance)\")\n",
        "display(perm_df.head(10))"
      ],
      "metadata": {
        "id": "_BKCnEQ1zVdE"
      },
      "execution_count": null,
      "outputs": []
    },
    {
      "cell_type": "markdown",
      "source": [
        "## **Informe de Cancelación de Clientes — TelecomX**\n",
        "**📌 Resumen General**\n",
        "\n",
        "Analizamos el comportamiento de los clientes y entrenamos modelos de predicción para identificar quiénes tienen más probabilidad de cancelar.\n",
        "\n",
        "El modelo de Random Forest resultó el más efectivo para detectar clientes en riesgo.\n",
        "\n",
        "La Regresión Logística nos permitió entender con claridad qué factores aumentan o reducen la probabilidad de cancelación.\n",
        "\n",
        "**🔑 Principales Factores de Cancelación**\n",
        "\n",
        "**Tipo de contrato:**\n",
        "\n",
        "Los clientes con contrato mensual tienen mucha más probabilidad de cancelar.\n",
        "\n",
        "En cambio, quienes tienen contratos de uno o dos años permanecen más tiempo.\n",
        "\n",
        "**Antigüedad (Meses como cliente):**\n",
        "\n",
        "Los clientes nuevos, especialmente en los primeros meses, son los que más cancelan.\n",
        "\n",
        "**Método de pago:**\n",
        "\n",
        "Quienes pagan con “electronic check” cancelan más seguido.\n",
        "\n",
        "Los clientes con pago automático (tarjeta/débito) tienden a permanecer más tiempo.\n",
        "\n",
        "**Monto de la factura:**\n",
        "\n",
        "Los clientes con facturas mensuales más altas muestran mayor riesgo de abandono.\n",
        "\n",
        "**Servicios adicionales (seguridad, respaldo online):**\n",
        "\n",
        "Los clientes que sí contratan servicios extra de internet son más leales.\n",
        "\n",
        "Los que no tienen add-ons, cancelan más fácilmente.\n",
        "\n",
        "# **💡 Estrategias de Retención**\n",
        "\n",
        "**Con base en los hallazgos, proponemos acciones concretas:**\n",
        "\n",
        "**Migración de contratos:** Incentivar a clientes de contrato mensual a pasarse a planes de 1 o 2 años, con descuentos o beneficios iniciales.\n",
        "\n",
        "**Apoyo a clientes nuevos:** Diseñar un programa de bienvenida para los primeros 3 meses (seguimiento, soporte proactivo, promociones personalizadas).\n",
        "\n",
        "**Cambio de método de pago:** Ofrecer bonos o descuentos a clientes que cambien su medio de pago a tarjeta o débito automático.\n",
        "\n",
        "**Optimizar facturación:** Dar paquetes o planes ajustados para clientes con facturas muy altas, evitando que perciban sobrecostos.\n",
        "\n",
        "**Promover servicios adicionales:** Ofrecer pruebas gratuitas de seguridad online o respaldo de datos para aumentar el valor percibido y reducir la intención de cancelar.\n",
        "\n",
        "# **📊 Uso del Modelo**\n",
        "\n",
        "El modelo puede generar semanalmente una lista de clientes con mayor riesgo, permitiendo al equipo de retención:\n",
        "\n",
        "Contactar de forma proactiva.\n",
        "\n",
        "Ofrecer ofertas personalizadas según el motivo de riesgo (precio, contrato, pago).\n",
        "\n",
        "Reducir el abandono antes de que ocurra.\n",
        "\n",
        "👉 En conclusión, la cancelación no es aleatoria:\n",
        "se concentra en clientes con contrato mensual, poca antigüedad, facturas altas y métodos de pago poco estables.\n",
        "Si enfocamos las estrategias en estos puntos, podemos reducir el churn de forma significativa"
      ],
      "metadata": {
        "id": "0_-vOpow3RbM"
      }
    },
    {
      "cell_type": "code",
      "source": [
        "from google.colab import files\n",
        "files.download(\"/content/datos_listos_modelo.csv\")"
      ],
      "metadata": {
        "id": "YpxjwryF3Tuc"
      },
      "execution_count": null,
      "outputs": []
    }
  ]
}